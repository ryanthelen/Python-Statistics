{
 "cells": [
  {
   "cell_type": "code",
   "execution_count": null,
   "metadata": {},
   "outputs": [],
   "source": []
  },
  {
   "cell_type": "code",
   "execution_count": null,
   "metadata": {},
   "outputs": [],
   "source": []
  },
  {
   "cell_type": "markdown",
   "metadata": {},
   "source": [
    "# Hypothesis Testing Object Orientated Programming"
   ]
  },
  {
   "cell_type": "markdown",
   "metadata": {},
   "source": [
    "## Hypothesis Testing Means Small Samples n<30"
   ]
  },
  {
   "cell_type": "code",
   "execution_count": null,
   "metadata": {},
   "outputs": [],
   "source": [
    "import scipy.stats as stats\n",
    "class hypothesis_test_means_small_samples():\n",
    "    def __init__(self,n,a,u,xbar,s):\n",
    "        self.u=u\n",
    "        self.n=n\n",
    "        self.a=a\n",
    "        self.xbar=xbar\n",
    "        self.s=s\n",
    "        self.t_test=(xbar-u)/(s/n**.5)\n",
    "    def left_tail(self):\n",
    "        t_alpha=stats.t.ppf(self.a,df=self.n-1)\n",
    "        t_test=self.t_test\n",
    "        if t_test<t_alpha:\n",
    "            print('{} t_test < {} t_alpha therefore we reject the null Hypothesis at this alpha level'.format(t_test,t_alpha))\n",
    "        else:\n",
    "            print('{} t_test > {} t_alpha therefore we fail to reject the null Hypothesis at this alpha level'.format(t_test,t_alpha))\n",
    "    def right_tail(self):\n",
    "        t_alpha=-stats.t.ppf(self.a,df=self.n-1)\n",
    "        t_test=self.t_test\n",
    "        if t_test>t_alpha:\n",
    "            print('{} t_test > {} t_alpha therefore we reject the null Hypothesis at this alpha level'.format(t_test,t_alpha))\n",
    "        else:\n",
    "            print('{} t_test < {} t_alpha therefore we fail to reject the null Hypothesis at this alpha level'.format(t_test,t_alpha))\n",
    "    def two_tailed(self):\n",
    "        t_alpha=stats.t.ppf(self.a/2,df=self.n-1)\n",
    "        t_test=self.t_test\n",
    "        if t_test<stats.t.ppf(self.a/2,df=self.n-1) or t_test>-stats.t.ppf(self.a/2,df=self.n-1):\n",
    "            if t_test<0:\n",
    "                print('{} t_test < {} t_alpha_2 therefore we reject the null Hypothesis at this alpha level'.format(t_test,t_alpha))\n",
    "            else:\n",
    "                print('{} t_test > {} t_alpha_2 therefore we reject the null Hypothesis at this alpha level'.format(t_test,-t_alpha))\n",
    "        else:\n",
    "            if t_test<0:\n",
    "                print('{} t_test > {} t_alpha_2 therefore we fail to reject the null Hypothesis at this alpha level'.format(t_test,t_alpha))\n",
    "            else:\n",
    "                print('{} t_test < {} t_alpha_2 therefore we fail to reject the null Hypothesis at this alpha level'.format(t_test,-t_alpha))"
   ]
  },
  {
   "cell_type": "markdown",
   "metadata": {},
   "source": [
    "## Hypothesis Testing Means Large Samples n>30"
   ]
  },
  {
   "cell_type": "code",
   "execution_count": null,
   "metadata": {},
   "outputs": [],
   "source": [
    "import scipy.stats as stats\n",
    "class hypothesis_testing_large_sample_mean(hypothesis_test_means_small_samples):\n",
    "    def __init__(self,n,a,u,xbar,s):\n",
    "        super().__init__(n,a,u,xbar,s)\n",
    "        self.z_test=self.t_test\n",
    "    def left_tail(self):\n",
    "        z_alpha=stats.norm.ppf(self.a)\n",
    "        z_test=self.z_test\n",
    "        if t_test<t_alpha:\n",
    "            print('{} z_test < {} z_alpha therefore we reject the null Hypothesis at this alpha level'.format(z_test,z_alpha))\n",
    "        else:\n",
    "            print('{} z_test > {} z_alpha therefore we fail to reject the null Hypothesis at this alpha level'.format(z_test,z_alpha))\n",
    "    def right_tail(self):\n",
    "        z_alpha=-stats.norm.ppf(self.a)\n",
    "        z_test=self.z_test\n",
    "        if z_test>z_alpha:\n",
    "            print('{} z_test > {} z_alpha therefore we reject the null Hypothesis at this alpha level'.format(z_test,z_alpha))\n",
    "        else:\n",
    "            print('{} z_test < {} z_alpha therefore we fail to reject the null Hypothesis at this alpha level'.format(z_test,z_alpha))\n",
    "    def two_tailed(self):\n",
    "        z_alpha=stats.norm.ppf(self.a)\n",
    "        z_test=self.z_test\n",
    "        if z_test<stats.norm.ppf(self.a/2) or t_test>-stats.norm.ppf(self.a/2):\n",
    "            if t_test<0:\n",
    "                print('{} z_test < {} z_alpha_2 therefore we reject the null Hypothesis at this alpha level'.format(z_test,z_alpha))\n",
    "            else:\n",
    "                print('{} z_test > {} z_alpha_2 therefore we reject the null Hypothesis at this alpha level'.format(z_test,-z_alpha))\n",
    "        else:\n",
    "            if t_test<0:\n",
    "                print('{} z_test > {} z_alpha_2 therefore we fail to reject the null Hypothesis at this alpha level'.format(z_test,z_alpha))\n",
    "            else:\n",
    "                print('{} z_test < {} z_alpha_2 therefore we fail to reject the null Hypothesis at this alpha level'.format(z_test,-z_alpha))"
   ]
  },
  {
   "cell_type": "code",
   "execution_count": null,
   "metadata": {},
   "outputs": [],
   "source": []
  }
 ],
 "metadata": {
  "kernelspec": {
   "display_name": "Python 3",
   "language": "python",
   "name": "python3"
  },
  "language_info": {
   "codemirror_mode": {
    "name": "ipython",
    "version": 3
   },
   "file_extension": ".py",
   "mimetype": "text/x-python",
   "name": "python",
   "nbconvert_exporter": "python",
   "pygments_lexer": "ipython3",
   "version": "3.7.3"
  }
 },
 "nbformat": 4,
 "nbformat_minor": 4
}
