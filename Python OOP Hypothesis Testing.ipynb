{
 "cells": [
  {
   "cell_type": "markdown",
   "metadata": {},
   "source": [
    "# Hypothesis Testing Object Orientated Programming"
   ]
  },
  {
   "cell_type": "markdown",
   "metadata": {},
   "source": [
    "## Hypothesis Testing Means"
   ]
  },
  {
   "cell_type": "code",
   "execution_count": 30,
   "metadata": {},
   "outputs": [],
   "source": [
    "import scipy.stats as stats\n",
    "class hypothesis_test_means_test_stat():\n",
    "    def __init__(self,n,a,u,xbar,s,type_test):\n",
    "        self.u=u\n",
    "        self.n=n\n",
    "        self.a=a\n",
    "        self.xbar=xbar\n",
    "        self.s=s\n",
    "        self.type_test=type_test\n",
    "        self.test_stat=(xbar-u)/(s/n**.5)\n",
    "        \n",
    "        if type_test=='t-test':\n",
    "            self.test_score=stats.t.ppf(self.a,df=self.n-1)\n",
    "            self.test_score_two_tailed=stats.t.ppf(self.a/2,df=self.n-1)\n",
    "        else:\n",
    "            self.test_score=stats.norm.ppf(self.a)\n",
    "            self.test_score_two_tailed=stats.norm.ppf(self.a/2)\n",
    "            \n",
    "        self.p_value=stats.t.cdf(self.test_stat,df=n-1)\n",
    "\n",
    "    def left_tail(self):\n",
    "        test_score=self.test_score\n",
    "        test_stat=self.test_stat\n",
    "        p_value=self.p_value   \n",
    "        if test_stat<=test_score:\n",
    "            print('The test statistic is {} which is less than or equal to the {} score of {} and the p_value is {} which is less than or equal to the alpha level of {} therefore we reject the null hypothesis'.format(test_stat,type_test,test_score,p_value,self.a))\n",
    "        else:\n",
    "            print('The test statistic is {} which is greater than the {} score of {} and the p_value is {} which is greater than the alpha level of {} therefore we fail to reject the null hypothesis'.format(test_stat,type_test,test_score,p_value,self.a))\n",
    "    def right_tail(self):\n",
    "        test_score=-self.test_score\n",
    "        test_stat=self.test_stat\n",
    "        p_value=1-self.p_value\n",
    "        if test_stat>=test_score:\n",
    "            print('The test statistic is {} which is greater than or equal to the {} score of {} and the p_value is {} which is less than or equal to the alpha level of {} therefore we reject the null hypothesis'.format(test_stat,type_test,test_score,p_value,self.a))\n",
    "        else:\n",
    "            print('The test statistic is {} which is less than the {} score of {} and the p_value is {} which is greater than the alpha level of {} therefore we fail to reject the null Hypothesis'.format(test_stat,type_test,test_score,p_value,self.a))\n",
    "    def two_tailed(self):\n",
    "        test_score=self.test_score_two_tailed\n",
    "        test_stat=self.test_stat\n",
    "        \n",
    "        if test_stat<=test_score:\n",
    "            p_value=2*self.p_value\n",
    "            print('The test statistic is {} which is less than or equal the two-tailed {} score of {} and the p_value is {} which is less than or equal to the alpha level of {} therefore we reject the null Hypothesis'.format(test_stat,type_test,test_score,p_value,self.a))\n",
    "        elif test_stat>=-test_score:\n",
    "            p_value=2*(1-self.p_value)\n",
    "            test_score=-test_score\n",
    "            print('The test statistic is {} which is greater than or equal the two-tailed {} score of {} and the p_value is {} which is less than or equal to the alpha level of {} therefore we reject the null Hypothesis'.format(test_stat,type_test,test_score,p_value,self.a))\n",
    "        else:\n",
    "            if test_stat<0:\n",
    "                p_value=2*self.p_value\n",
    "                print('The test statistic is {} which is greater than the two-tailed {} score of {} and the p_value is {} which is greater than alpha level of {} therefore we fail to reject the null Hypothesis'.format(test_stat,type_test,test_score,p_value,self.a))\n",
    "            else:\n",
    "                p_value=2*(1-self.p_value)\n",
    "                print('The test statistic is {} which is less than the two-tailed {} score of {} and the p_value is {} which is greater than alpha level of {} therefore we fail to reject the null Hypothesis'.format(test_stat,type_test,-test_score,p_value,self.a))"
   ]
  },
  {
   "cell_type": "markdown",
   "metadata": {},
   "source": [
    "## Input Functions for Mean Hypothesis Test"
   ]
  },
  {
   "cell_type": "code",
   "execution_count": 31,
   "metadata": {},
   "outputs": [],
   "source": [
    "def get_mean():\n",
    "    u=input('What is the mean are you testing? ')\n",
    "    while u.isalpha():\n",
    "        u=input('The number you entered is not a digit. What is the mean you are testing?')\n",
    "    return float(u)\n",
    "\n",
    "def get_num_samples():\n",
    "    n=input('What is number of samples? ')\n",
    "    while not n.isdigit():\n",
    "        n=input('The number you entered is not a whole number. What is number of samples? ')\n",
    "    return int(n)\n",
    "\n",
    "def get_sample_mean():\n",
    "    xbar=input('What is the sample mean? ')\n",
    "    while xbar.isalpha():\n",
    "        xbar=input('The number you entered is not a digit. What is the sample mean? ')\n",
    "    return float(xbar)\n",
    "\n",
    "def get_level_of_significance():\n",
    "    a=input('What is the level of signifcance? ')\n",
    "    while a.isalpha() or float(a)>1:\n",
    "        a=input('The number you entered is not less than one. What is the level of signifcance? ')\n",
    "    return float(a)\n",
    "\n",
    "def get_sample_std_dev():\n",
    "    s=input('What is the sample standard deviation? ')\n",
    "    while s.isalpha():\n",
    "        s=input('The number you entered is not a digit. What is the sample standard deviation? ')\n",
    "    return float(s)\n",
    "\n",
    "def get_type_test(n):\n",
    "    if n<=30:\n",
    "        return 't-test'\n",
    "    else:\n",
    "        return 'z-test'\n",
    "    \n",
    "def hypothesis_test_mean_inputs():\n",
    "    u=get_mean()\n",
    "    n=get_num_samples()\n",
    "    xbar=get_sample_mean()\n",
    "    s=get_sample_std_dev()\n",
    "    a=get_level_of_significance()\n",
    "    type_test=get_type_test(n)\n",
    "    return (u,n,xbar,s,a,type_test)"
   ]
  },
  {
   "cell_type": "markdown",
   "metadata": {},
   "source": [
    "## Function to Assign Inputs to Variables and Assign Instance"
   ]
  },
  {
   "cell_type": "code",
   "execution_count": 32,
   "metadata": {},
   "outputs": [],
   "source": [
    "def assign_inputs():\n",
    "    hypothesis_test=None #clears hypothesis inputs\n",
    "    u,n,xbar,s,a,type_test=hypothesis_test_mean_inputs()\n",
    "    return hypothesis_test_means_test_stat(n,a,u,xbar,s,type_test)"
   ]
  },
  {
   "cell_type": "markdown",
   "metadata": {},
   "source": [
    "## Assign Inputs and Perform Hypothesis Test for Means"
   ]
  },
  {
   "cell_type": "code",
   "execution_count": 33,
   "metadata": {},
   "outputs": [
    {
     "name": "stdout",
     "output_type": "stream",
     "text": [
      "What is the mean are you testing? 100\n",
      "What is number of samples? 27\n",
      "What is the sample mean? 104.93\n",
      "What is the sample standard deviation? 9.07\n",
      "What is the level of signifcance? .05\n",
      "\n",
      "The test statistic is 2.824369508703829 which is greater than or equal to the t-test score of 1.7056179197592731 and the p_value is 0.004487457864731592 which is less than or equal to the alpha level of 0.05 therefore we reject the null hypothesis\n"
     ]
    }
   ],
   "source": [
    "hypothesis_test=assign_inputs()\n",
    "print('')\n",
    "hypothesis_test.right_tail()"
   ]
  }
 ],
 "metadata": {
  "kernelspec": {
   "display_name": "Python 3",
   "language": "python",
   "name": "python3"
  },
  "language_info": {
   "codemirror_mode": {
    "name": "ipython",
    "version": 3
   },
   "file_extension": ".py",
   "mimetype": "text/x-python",
   "name": "python",
   "nbconvert_exporter": "python",
   "pygments_lexer": "ipython3",
   "version": "3.7.3"
  }
 },
 "nbformat": 4,
 "nbformat_minor": 4
}
